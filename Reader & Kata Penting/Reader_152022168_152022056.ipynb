{
 "cells": [
  {
   "cell_type": "code",
   "execution_count": 1,
   "metadata": {},
   "outputs": [],
   "source": [
    "import os\n",
    "from docx import Document\n",
    "import PyPDF2"
   ]
  },
  {
   "cell_type": "code",
   "execution_count": 2,
   "metadata": {},
   "outputs": [],
   "source": [
    "def read_txt(file_path):\n",
    "    try:\n",
    "        with open(file_path, 'r', encoding='utf-8') as file:\n",
    "            content = file.read()\n",
    "        return content\n",
    "    except Exception as e:\n",
    "        return f\"Gagal membaca file TXT: {str(e)}\""
   ]
  },
  {
   "cell_type": "markdown",
   "metadata": {},
   "source": [
    "●\tMembuka file dalam mode baca ('r') dengan encoding utf-8 untuk memastikan karakter spesial dapat diproses.\n",
    "●\tMembaca isi file menggunakan file.read().\n",
    "●\tOutput: Mengembalikan isi file sebagai string. Jika terjadi error, pesan error akan dikembalikan."
   ]
  },
  {
   "cell_type": "code",
   "execution_count": 3,
   "metadata": {},
   "outputs": [],
   "source": [
    "def read_docx(file_path):\n",
    "    try:\n",
    "        doc = Document(file_path)\n",
    "        content = '\\n'.join([paragraph.text for paragraph in doc.paragraphs])\n",
    "        return content\n",
    "    except Exception as e:\n",
    "        return f\"Gagal membaca file DOCX: {str(e)}\""
   ]
  },
  {
   "cell_type": "markdown",
   "metadata": {},
   "source": [
    "●\tMembuka file DOCX menggunakan Document.\n",
    "●\tMengakses semua paragraf dalam dokumen melalui doc.paragraphs.\n",
    "●\tMenggabungkan teks dari setiap paragraf menjadi satu string, dipisahkan dengan baris baru (\\n).\n",
    "●\tOutput: Mengembalikan isi dokumen dalam bentuk teks gabungan. Jika error, pesan error dikembalikan."
   ]
  },
  {
   "cell_type": "code",
   "execution_count": 4,
   "metadata": {},
   "outputs": [],
   "source": [
    "def read_pdf(file_path):\n",
    "    try:\n",
    "        with open(file_path, 'rb') as file:\n",
    "            pdf_reader = PyPDF2.PdfReader(file)\n",
    "            content = ''\n",
    "            for page in pdf_reader.pages:\n",
    "                content += page.extract_text()\n",
    "        return content\n",
    "    except Exception as e:\n",
    "        return f\"Gagal membaca file PDF: {str(e)}\""
   ]
  },
  {
   "cell_type": "markdown",
   "metadata": {},
   "source": [
    "●\tMembuka file PDF dalam mode rb (baca biner).\n",
    "●\tMembuat objek pembaca PDF (PdfReader).\n",
    "●\tMengakses setiap halaman di PDF melalui pdf_reader.pages.\n",
    "●\tMenambahkan teks dari setiap halaman ke variabel content.\n",
    "●\tOutput: Isi file PDF sebagai teks. Jika terjadi error (misalnya file terenkripsi), akan mengembalikan pesan error."
   ]
  },
  {
   "cell_type": "code",
   "execution_count": 5,
   "metadata": {},
   "outputs": [],
   "source": [
    "def read_document(file_path):\n",
    "    file_extension = os.path.splitext(file_path)[1].lower()\n",
    "    \n",
    "    if file_extension == '.txt':\n",
    "        return read_txt(file_path)\n",
    "    elif file_extension in ['.doc', '.docx']:\n",
    "        return read_docx(file_path)\n",
    "    elif file_extension == '.pdf':\n",
    "        return read_pdf(file_path)\n",
    "    else:\n",
    "        return \"Format file tidak didukung\""
   ]
  },
  {
   "cell_type": "markdown",
   "metadata": {},
   "source": [
    "●\tMengambil ekstensi file menggunakan os.path.splitext(file_path)[1].\n",
    "●\tMemeriksa tipe file berdasarkan ekstensi.\n",
    "●\tMemanggil fungsi pembaca (TXT, DOCX, atau PDF) sesuai dengan format file.\n",
    "●\tMengembalikan pesan jika format file tidak didukung.\n",
    "●\tOutput: Isi dokumen atau pesan error jika format tidak dikenali."
   ]
  },
  {
   "cell_type": "code",
   "execution_count": 6,
   "metadata": {},
   "outputs": [],
   "source": [
    "def hitung(text):\n",
    "    if not text:\n",
    "        return 0, 0\n",
    "    words = text.split()\n",
    "    kata = len(words)\n",
    "    huruf = sum(c.isalnum() for c in text)\n",
    "    return kata, huruf"
   ]
  },
  {
   "cell_type": "markdown",
   "metadata": {},
   "source": [
    "●\tMemisahkan teks menjadi kata-kata berdasarkan spasi (text.split()).\n",
    "●\tMenghitung jumlah kata dengan fungsi len(words).\n",
    "● c.isalnum(): Mengecek apakah karakter c adalah alfanumerik (huruf atau angka). Karakter seperti spasi, tanda baca, atau simbol akan diabaikan.\n",
    "●\tOutput: Jumlah kata dan huruf."
   ]
  },
  {
   "cell_type": "code",
   "execution_count": 7,
   "metadata": {},
   "outputs": [],
   "source": [
    "def main():    \n",
    "    directory_path = \"documents\"    \n",
    "    try:        \n",
    "        files = os.listdir(directory_path)        \n",
    "        for file_name in files:\n",
    "            if file_name.lower().endswith(('.txt', '.doc', '.docx', '.pdf')):\n",
    "                file_path = os.path.join(directory_path, file_name)\n",
    "                print(f\"\\nFile: {file_name}\")\n",
    "                print(\"-\" * 50)\n",
    "                content = read_document(file_path)\n",
    "                jumlah_kata, jumlah_huruf = hitung(content)\n",
    "                print(f\"Konten: {content}\")\n",
    "                print(f\"Jumlah kata  : {jumlah_kata}\")\n",
    "                print(f\"Jumlah huruf : {jumlah_huruf}\")\n",
    "                print(\"-\" * 50)                \n",
    "    except Exception as e:\n",
    "        print(f\"Error: {str(e)}\")"
   ]
  },
  {
   "cell_type": "markdown",
   "metadata": {},
   "source": [
    "●\tMembaca semua dokumen di folder documents dan menganalisisnya.\n",
    "●\tMengambil Daftar File: Menggunakan os.listdir(directory_path) untuk mendapatkan semua file dalam folder.\n",
    "●\tPemeriksaan Format File: Memastikan hanya file dengan ekstensi .txt, .doc, .docx, atau .pdf yang diproses.\n",
    "●\tMembaca Dokumen: Memanggil fungsi read_document untuk membaca isi file.\n",
    "●\tAnalisis Konten: Menggunakan fungsi hitung untuk menghitung jumlah kata dan huruf.\n",
    "●\tMenampilkan Hasil: Menampilkan nama file, konten, jumlah kata, dan jumlah huruf ke layar."
   ]
  },
  {
   "cell_type": "code",
   "execution_count": 8,
   "metadata": {},
   "outputs": [
    {
     "name": "stdout",
     "output_type": "stream",
     "text": [
      "\n",
      "File: text.docx\n",
      "--------------------------------------------------\n",
      "Konten: Selamat Pagi, ini adalah hasil Document Reader kami\n",
      "Jumlah kata  : 8\n",
      "Jumlah huruf : 43\n",
      "--------------------------------------------------\n",
      "\n",
      "File: text.pdf\n",
      "--------------------------------------------------\n",
      "Konten: Selamat Pagi, ini adalah hasil Document Reader kami  \n",
      "Jumlah kata  : 8\n",
      "Jumlah huruf : 43\n",
      "--------------------------------------------------\n",
      "\n",
      "File: text.txt\n",
      "--------------------------------------------------\n",
      "Konten: Selamat Pagi, ini adalah hasil Document Reader kami\n",
      "\n",
      "Jumlah kata  : 8\n",
      "Jumlah huruf : 43\n",
      "--------------------------------------------------\n"
     ]
    }
   ],
   "source": [
    "if __name__ == \"__main__\":\n",
    "    main()"
   ]
  }
 ],
 "metadata": {
  "kernelspec": {
   "display_name": "reader",
   "language": "python",
   "name": "python3"
  },
  "language_info": {
   "codemirror_mode": {
    "name": "ipython",
    "version": 3
   },
   "file_extension": ".py",
   "mimetype": "text/x-python",
   "name": "python",
   "nbconvert_exporter": "python",
   "pygments_lexer": "ipython3",
   "version": "3.12.5"
  }
 },
 "nbformat": 4,
 "nbformat_minor": 2
}
